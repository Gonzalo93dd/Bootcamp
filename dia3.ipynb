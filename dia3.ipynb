{
 "cells": [
  {
   "cell_type": "code",
   "execution_count": null,
   "id": "7ff3ae38",
   "metadata": {},
   "outputs": [],
   "source": [
    "#INICIAR UN JUEGO\n",
    "\n",
    "definir palabra_a_encontrar\n",
    "definir cantidad_de_letras\n",
    "definir intentos\n",
    "CREAR grilla vacia (lista para mostrar el progreso del jugador)\n",
    "\n",
    "MOSTRAR mensaje de bienvenida\n"
   ]
  },
  {
   "cell_type": "code",
   "execution_count": null,
   "id": "f023c222",
   "metadata": {},
   "outputs": [
    {
     "name": "stdout",
     "output_type": "stream",
     "text": [
      "te quedan 3 intentos\n",
      "valiste\n",
      "te quedan 2 intentos\n",
      "valiste\n",
      "te quedan 1 intentos\n",
      "valiste\n",
      "WELCOME TO THE GAME\n"
     ]
    }
   ],
   "source": [
    "intentos = 3\n",
    "palabra_secreta = input('ingrese palabra secreta')\n",
    "cantidad_de_letras = len(palabra_secreta)\n",
    "\n",
    "print(\"WELCOME TO THE GAME\")"
   ]
  },
  {
   "cell_type": "code",
   "execution_count": null,
   "id": "e9bc1766",
   "metadata": {},
   "outputs": [
    {
     "name": "stdout",
     "output_type": "stream",
     "text": [
      "te quedan 3 intentos\n",
      "valiste\n",
      "te quedan 2 intentos\n",
      "valiste\n",
      "te quedan 1 intentos\n",
      "valiste\n"
     ]
    }
   ],
   "source": [
    "#FINALIZADO PERO NO ENTENDIDO\n",
    "intentos = 3\n",
    "while intentos > 0:\n",
    "    print(f'te quedan {intentos} intentos')\n",
    "    palabra = input('ingrese la palabra')\n",
    "    intentos = intentos - 1\n",
    "    print('valiste')"
   ]
  },
  {
   "cell_type": "markdown",
   "id": "c1586fdb",
   "metadata": {},
   "source": [
    "Dada la lista de ejemplo: \n",
    "\n",
    "lista = [['h', 'o', 'l', 'i', 's'], ['h', 'e', 'l', 'l', 'o'], ['h', 'a', 'l', 'l', 'o']]\n",
    "\n",
    "Crear una función que imprima una grilla (lista de listas), una línea por cada lista dentro de la lista principal.\n",
    "Ejemplo del resultado esperado:\n",
    "['h', 'o', 'l', 'i', 's']\n",
    "['h', 'e', 'l', 'l', 'o']\n",
    "['h', 'a', 'l', 'l', 'o']"
   ]
  },
  {
   "cell_type": "code",
   "execution_count": 75,
   "id": "4ba458f2",
   "metadata": {},
   "outputs": [
    {
     "name": "stdout",
     "output_type": "stream",
     "text": [
      "['a', 'l', 'e']\n",
      "['c', 'a', 's', 'a']\n",
      "['l', 'u', 'n', 'a']\n"
     ]
    }
   ],
   "source": [
    "lista = [['a', 'l', 'e'], ['c', 'a', 's' ,'a'], ['l' ,'u' ,'n' ,'a']]\n",
    "def imprimir_grilla(lista):\n",
    "    for fila in lista:\n",
    "        print(fila)\n",
    "\n",
    "lista = [['a', 'l', 'e'], ['c', 'a', 's' ,'a'], ['l' ,'u' ,'n' ,'a']]\n",
    "imprimir_grilla(lista)\n",
    "\n"
   ]
  },
  {
   "cell_type": "code",
   "execution_count": null,
   "id": "cb91563f",
   "metadata": {},
   "outputs": [
    {
     "ename": "IndentationError",
     "evalue": "expected an indented block after 'for' statement on line 8 (3811253912.py, line 10)",
     "output_type": "error",
     "traceback": [
      "  \u001b[36mCell\u001b[39m\u001b[36m \u001b[39m\u001b[32mIn[62]\u001b[39m\u001b[32m, line 10\u001b[39m\n\u001b[31m    \u001b[39m\u001b[31mlas_letras_son_iguales = palabra_a_encontrar[posicion] == palabra_ingresada[posicion]\u001b[39m\n    ^\n\u001b[31mIndentationError\u001b[39m\u001b[31m:\u001b[39m expected an indented block after 'for' statement on line 8\n"
     ]
    }
   ],
   "source": [
    "#crear  una funcion que contenga dos parametros\n",
    "def obtener_fila_verificada(palabra_encontrada, palabra_ingresada):\n",
    "    # definir la cantidad de palabras encontradas\n",
    "    cantidad_de_letras_de_palabras_a_encontrar = 5\n",
    "    #crear una lista vacia para guardar las letras verificadas\n",
    "    letras_verificadas = []\n",
    "    #se recorre cada posicion  de la palabra\n",
    "    for posicion in range(cantidad_de_letras_de_palabras_a_encontrar):\n",
    "    #comparar las letras de la misma posicion\n",
    "    las_letras_son_iguales = palabra_a_encontrar[posicion] == palabra_ingresada[posicion]\n",
    "    #si la letra existe  en la palabra\n",
    "    la_letra_exite_en_la_palabra = palabra_ingresada[posicion] in palabra_encontrada\n",
    "    if las_letras_son_iguales:\n",
    "        letras_verificadas.append('[' + palabra_ingresada[posicion] +']')\n",
    "    elif la_letra_exite_en_la_palabra:\n",
    "        letras_verificadas.append('(' + palabra_ingresada[posicion] + ')')\n",
    "    else:\n",
    "        letras_verificadas.append(palabra_ingresada[posicion])\n",
    "\n",
    "\n",
    "        #INCOMPLETO\n",
    "\n",
    "    "
   ]
  },
  {
   "cell_type": "code",
   "execution_count": null,
   "id": "35fad127",
   "metadata": {},
   "outputs": [
    {
     "ename": "NameError",
     "evalue": "name 'obtener_fila_verificada' is not defined",
     "output_type": "error",
     "traceback": [
      "\u001b[31m---------------------------------------------------------------------------\u001b[39m",
      "\u001b[31mNameError\u001b[39m                                 Traceback (most recent call last)",
      "\u001b[36mCell\u001b[39m\u001b[36m \u001b[39m\u001b[32mIn[65]\u001b[39m\u001b[32m, line 5\u001b[39m\n\u001b[32m      1\u001b[39m palabra_a_encontrar = \u001b[33m\"\u001b[39m\u001b[33mhuevo\u001b[39m\u001b[33m\"\u001b[39m\n\u001b[32m      2\u001b[39m palabra_ingresada = \u001b[38;5;28minput\u001b[39m(\u001b[33m\"\u001b[39m\u001b[33mingrese una palabra a de 5 letras\u001b[39m\u001b[33m\"\u001b[39m)\n\u001b[32m----> \u001b[39m\u001b[32m5\u001b[39m linea_verificada = \u001b[43mobtener_fila_verificada\u001b[49m (palabra_a_encontrar, palabra_ingresada)\n\u001b[32m      7\u001b[39m \u001b[38;5;28mprint\u001b[39m(linea_verificada)\n",
      "\u001b[31mNameError\u001b[39m: name 'obtener_fila_verificada' is not defined"
     ]
    }
   ],
   "source": [
    "palabra_a_encontrar = \"huevo\"\n",
    "palabra_ingresada = input(\"ingrese una palabra a de 5 letras\")\n",
    "\n",
    "\n",
    "linea_verificada = obtener_fila_verificada (palabra_a_encontrar, palabra_ingresada)\n",
    "\n",
    "print(linea_verificada)\n",
    "\n",
    "#INCOMPLETO"
   ]
  },
  {
   "cell_type": "code",
   "execution_count": null,
   "id": "99eaad3b",
   "metadata": {},
   "outputs": [],
   "source": []
  },
  {
   "cell_type": "code",
   "execution_count": null,
   "id": "04512c72",
   "metadata": {},
   "outputs": [],
   "source": [
    "#Pedir al usuario que ingrese 1 palabra, luego convertir esa palabra a una lista con sus caracteres con list().\n",
    "# Agregar esa lista de caracteres a una lista llamada palabras_ingresadas. Repetir el proceso 3 veces.\n",
    "# Cada vez que se agregue una lista de caracteres, imprimir la lista palabras_ingresadas.\n",
    "\n",
    "\n",
    "Ejemplo del resultado esperado:\n",
    "\n",
    "[['c', 'i', 'e', 'l', 'o']]\n",
    " # Al ingresar la primera palabra\n",
    "\n",
    "[['c', 'i', 'e', 'l', 'o'], ['c', 'a', 'l', 'o', 'r']]\n",
    " # Al ingresar la segunda palabra\n",
    "\n",
    "[['c', 'i', 'e', 'l', 'o'], ['c', 'a', 'l', 'o', 'r'], ['n', 'u', 'b', 'e', 's']]\n",
    " # Al ingresar la tercera palabra\n"
   ]
  },
  {
   "cell_type": "code",
   "execution_count": 60,
   "id": "e9d59975",
   "metadata": {},
   "outputs": [
    {
     "name": "stdout",
     "output_type": "stream",
     "text": [
      "[['H', 'O', 'L', 'A']]\n",
      "[['H', 'O', 'L', 'A'], ['A', 'L', 'E']]\n",
      "[['H', 'O', 'L', 'A'], ['A', 'L', 'E'], ['Q', 'U', 'E', 'T', 'A', 'L']]\n"
     ]
    }
   ],
   "source": [
    "palabra_ingresada = []\n",
    "for i in range(3):\n",
    "    palabra = input(\"ingrese la primera palabra\")\n",
    "    lista_auxiliar = list(palabra)\n",
    "    palabra_ingresada.append(lista_auxiliar)\n",
    "    print(palabra_ingresada)\n",
    "\n",
    "\n",
    "\n",
    "\n"
   ]
  },
  {
   "cell_type": "code",
   "execution_count": 52,
   "id": "463228d5",
   "metadata": {},
   "outputs": [
    {
     "data": {
      "text/plain": [
       "True"
      ]
     },
     "execution_count": 52,
     "metadata": {},
     "output_type": "execute_result"
    }
   ],
   "source": [
    "#IF, ELIF, ELSE.\n",
    "def comparar_palabra_numero (letra, numero):\n",
    "    if len(letra) == numero:\n",
    "        return True\n",
    "    else:\n",
    "        return False\n",
    "    \n",
    "comparar_palabra_numero(\"gonza\", 5)\n"
   ]
  },
  {
   "cell_type": "code",
   "execution_count": null,
   "id": "00386d67",
   "metadata": {},
   "outputs": [
    {
     "name": "stdout",
     "output_type": "stream",
     "text": [
      "coincide la cantidad de letras con el numero? True\n"
     ]
    }
   ],
   "source": [
    "#INPUT\n",
    "def comparar_palabra_numero(palabra, numero):\n",
    "    return len(palabra) == numero\n",
    "palabra = input(\"escribe palabra\")\n",
    "numero = int(input(\"escribe numero\"))\n",
    "resultado = comparar_palabra_numero(palabra, numero)\n",
    "print(\"coincide la cantidad de letras con el numero?\", resultado)"
   ]
  },
  {
   "cell_type": "code",
   "execution_count": 50,
   "id": "5a9fc092",
   "metadata": {},
   "outputs": [
    {
     "name": "stdout",
     "output_type": "stream",
     "text": [
      "True\n",
      "False\n"
     ]
    }
   ],
   "source": [
    "#Crear una función que reciba dos parámetros (una palabra y un número), y que retorne True si el número es igual a la cantidad de letras de la palabra. \n",
    "#En caso contrario, que retorne False.\n",
    "\n",
    "def comparar_palabra_numero (palabra, numero):\n",
    "    return len(palabra) == numero\n",
    "print (comparar_palabra_numero(\"kapex\", 5))\n",
    "print (comparar_palabra_numero(\"coca\", 2))\n"
   ]
  },
  {
   "cell_type": "code",
   "execution_count": 41,
   "id": "bb6ec83e",
   "metadata": {},
   "outputs": [
    {
     "data": {
      "text/plain": [
       "3"
      ]
     },
     "execution_count": 41,
     "metadata": {},
     "output_type": "execute_result"
    }
   ],
   "source": [
    "def sumatoria (numero1, numero2):\n",
    "    sumar = numero1 + numero2\n",
    "    return sumar\n",
    "sumatoria(1, 2)"
   ]
  },
  {
   "cell_type": "code",
   "execution_count": null,
   "id": "d2db2a35",
   "metadata": {},
   "outputs": [],
   "source": [
    "def comparar_palabra (letra1, letra2):\n",
    "    if letra1 == letra2:\n",
    "        print(\"iguale\")\n",
    "    elif letra1 != letra2:\n",
    "        print (\"diferentes\")\n",
    "\n",
    "letra_1 = input(\"escribe una letra\")\n",
    "letra_2 = input(\"escribe una letra\")\n",
    "#INCOMPLETO"
   ]
  },
  {
   "cell_type": "code",
   "execution_count": 36,
   "id": "60341fcd",
   "metadata": {},
   "outputs": [
    {
     "name": "stdout",
     "output_type": "stream",
     "text": [
      "las letras son iguales\n"
     ]
    }
   ],
   "source": [
    "def  palabras(A, B, C, D):\n",
    "    if A == A:\n",
    "        print(\"las letras son iguales\")\n",
    "    else:\n",
    "        print(\"las letras no son iguales\")\n",
    "palabras(\"A\", \"B\", \"C\", \"D\")"
   ]
  },
  {
   "cell_type": "code",
   "execution_count": 26,
   "id": "f0c15ab6",
   "metadata": {},
   "outputs": [
    {
     "name": "stdout",
     "output_type": "stream",
     "text": [
      "las letras no son iguales\n"
     ]
    }
   ],
   "source": [
    "def  palabras(letra1, letra2):\n",
    "    if letra1 == letra2:\n",
    "        print(\"las letras son iguales\")\n",
    "    else:\n",
    "        print(\"las letras no son iguales\")\n",
    "palabras(\"a\", \"b\")"
   ]
  },
  {
   "cell_type": "markdown",
   "id": "229cc3da",
   "metadata": {},
   "source": [
    "#Crear una función que reciba dos letras (parámetros) y que verifique si son iguales:\n",
    "\n",
    "Si son iguales, imprimir \"Las letras son iguales\".\n",
    "\n",
    "De lo contrario, imprimir \"Las letras son diferentes\""
   ]
  },
  {
   "cell_type": "code",
   "execution_count": 18,
   "id": "815a8ccc",
   "metadata": {},
   "outputs": [
    {
     "name": "stdout",
     "output_type": "stream",
     "text": [
      "3\n"
     ]
    }
   ],
   "source": [
    "def sumar_numeros( numero1, numero2):\n",
    "    suma = numero1 + numero2\n",
    "    print(suma)\n",
    "\n",
    "sumar_numeros(1, 2)\n"
   ]
  },
  {
   "cell_type": "code",
   "execution_count": 14,
   "id": "9ab3c64a",
   "metadata": {},
   "outputs": [
    {
     "name": "stdout",
     "output_type": "stream",
     "text": [
      "despertate\n"
     ]
    }
   ],
   "source": [
    "def palabra_palabra(despertate):\n",
    "    print(despertate)\n",
    "imprimir_palabra(\"despertate\")"
   ]
  },
  {
   "cell_type": "code",
   "execution_count": 13,
   "id": "33b8b046",
   "metadata": {},
   "outputs": [
    {
     "name": "stdout",
     "output_type": "stream",
     "text": [
      "arriba\n"
     ]
    }
   ],
   "source": [
    "#crear una funcion que imprima la variable palabra\n",
    "\n",
    "def imprimir_palabra(arriba):\n",
    "    print(arriba)\n",
    "\n",
    "imprimir_palabra('arriba')\n",
    "    \n"
   ]
  }
 ],
 "metadata": {
  "kernelspec": {
   "display_name": "Python 3",
   "language": "python",
   "name": "python3"
  },
  "language_info": {
   "codemirror_mode": {
    "name": "ipython",
    "version": 3
   },
   "file_extension": ".py",
   "mimetype": "text/x-python",
   "name": "python",
   "nbconvert_exporter": "python",
   "pygments_lexer": "ipython3",
   "version": "3.13.3"
  }
 },
 "nbformat": 4,
 "nbformat_minor": 5
}
