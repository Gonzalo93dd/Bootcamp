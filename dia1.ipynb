{
 "cells": [
  {
   "cell_type": "code",
   "execution_count": 102,
   "id": "f8717b4f",
   "metadata": {},
   "outputs": [
    {
     "name": "stdout",
     "output_type": "stream",
     "text": [
      "estoy cocinando carne\n"
     ]
    }
   ],
   "source": [
    "def preparar_comida():\n",
    "    ingrediente = 'carne'\n",
    "    print(f'estoy cocinando {ingrediente}')\n",
    "preparar_comida()"
   ]
  },
  {
   "cell_type": "code",
   "execution_count": 100,
   "id": "4691d99f",
   "metadata": {},
   "outputs": [
    {
     "name": "stdout",
     "output_type": "stream",
     "text": [
      "Quiero una pc con 32 y un 1tb con una 8 y i10\n"
     ]
    }
   ],
   "source": [
    "def armar_PCGAMER(RAM,DISCODURO,TARJETA,PROCESADOR):\n",
    "    print(f'Quiero una pc con {RAM} y un {DISCODURO} con una {TARJETA} y {PROCESADOR}')\n",
    "\n",
    "ram = input('GYGABYTE')\n",
    "harddrive = input('CAPACIDAD DE DISCO DURO')\n",
    "tarjetadevideo = input('TIPO DE TARJETA')\n",
    "procesador = input('TIPO DE PROCESADOR')\n",
    "\n",
    "armar_PCGAMER(ram, harddrive, tarjetadevideo, procesador)\n",
    "\n"
   ]
  },
  {
   "cell_type": "code",
   "execution_count": 88,
   "id": "f3275211",
   "metadata": {},
   "outputs": [
    {
     "name": "stdout",
     "output_type": "stream",
     "text": [
      "ubicacion\n",
      "cerca de una escuela\n",
      "cerca de una parada\n",
      "agregar cochera\n",
      "listo\n",
      "ubicacion\n",
      "cerca de una escuela\n",
      "cerca de una parada\n",
      "agregar con terraza\n",
      "listo\n"
     ]
    }
   ],
   "source": [
    "def comprar_casa(caracteristicas):\n",
    "    print('ubicacion')\n",
    "    print('cerca de una escuela')\n",
    "    print('cerca de una parada')\n",
    "    print(f'agregar {caracteristicas}')\n",
    "    print('listo')\n",
    "\n",
    "comprar_casa('cochera') \n",
    "comprar_casa('con terraza')"
   ]
  },
  {
   "cell_type": "code",
   "execution_count": 81,
   "id": "8f1e6d4d",
   "metadata": {},
   "outputs": [
    {
     "name": "stdout",
     "output_type": "stream",
     "text": [
      "abrir el pan\n",
      "agregar huevo\n",
      "cerrar el pan\n",
      "listo\n",
      "abrir el pan\n",
      "agregar tomate y lechuga\n",
      "cerrar el pan\n",
      "listo\n"
     ]
    }
   ],
   "source": [
    "def preparar_sandwich(ingrediente):\n",
    "    print('abrir el pan')\n",
    "    print(f'agregar {ingrediente}')\n",
    "    print('cerrar el pan')\n",
    "    print('listo')\n",
    "\n",
    "preparar_sandwich('huevo')\n",
    "preparar_sandwich('tomate y lechuga')\n",
    "\n"
   ]
  },
  {
   "cell_type": "code",
   "execution_count": 79,
   "id": "24a56854",
   "metadata": {},
   "outputs": [
    {
     "name": "stdout",
     "output_type": "stream",
     "text": [
      "buscar el dinero\n",
      "salir de casa\n",
      "ir al negocio\n",
      "comprar y listo\n",
      "COCA!\n"
     ]
    }
   ],
   "source": [
    "comprar_coca()"
   ]
  },
  {
   "cell_type": "code",
   "execution_count": 78,
   "id": "290e339d",
   "metadata": {},
   "outputs": [],
   "source": [
    "def comprar_coca():\n",
    "    print('buscar el dinero')\n",
    "    print('salir de casa')\n",
    "    print('ir al negocio')\n",
    "    print('comprar y listo')\n",
    "    print('COCA!')"
   ]
  },
  {
   "cell_type": "code",
   "execution_count": 57,
   "id": "f35f048d",
   "metadata": {},
   "outputs": [
    {
     "name": "stdout",
     "output_type": "stream",
     "text": [
      "25\n",
      "<class 'str'>\n"
     ]
    }
   ],
   "source": [
    "numero1 = input(\"dame un numero\")\n",
    "numero2 = input(\"dame otro numero\")\n",
    "suma = int(numero1) + int(numero2)\n",
    "print(suma)\n",
    "print(type(numero1))\n",
    "\n"
   ]
  },
  {
   "cell_type": "code",
   "execution_count": 56,
   "id": "8eda6b40",
   "metadata": {},
   "outputs": [
    {
     "name": "stdout",
     "output_type": "stream",
     "text": [
      "20\n",
      "<class 'str'>\n"
     ]
    }
   ],
   "source": [
    "numero1 = input(\"dame un numero\")\n",
    "numero2 = input(\"dame otro numero\")\n",
    "multiplicacion = int(numero1) * int(numero2)\n",
    "print(multiplicacion)\n",
    "\n",
    "print(type(numero1))\n",
    "\n"
   ]
  },
  {
   "cell_type": "code",
   "execution_count": 54,
   "id": "1814d171",
   "metadata": {},
   "outputs": [
    {
     "name": "stdout",
     "output_type": "stream",
     "text": [
      "45\n",
      "<class 'str'>\n"
     ]
    }
   ],
   "source": [
    "numero1 = input(\"dame un numero\")\n",
    "numero2 = input(\"dame otro numero\")\n",
    "resta = int(numero1) - int(numero2)\n",
    "print(resta)\n",
    "\n",
    "print(type(numero1))\n",
    "\n"
   ]
  },
  {
   "cell_type": "code",
   "execution_count": null,
   "id": "3145bbdc",
   "metadata": {},
   "outputs": [
    {
     "name": "stdout",
     "output_type": "stream",
     "text": [
      "45\n",
      "<class 'str'>\n"
     ]
    }
   ],
   "source": [
    "numero1 = input(\"dame un numero\")\n",
    "numero2 = input(\"dame otro numero\")\n",
    "resta = int(numero1) - int(numero2)\n",
    "print(resta)\n",
    "\n",
    "print(type(numero1))\n",
    "\n"
   ]
  },
  {
   "cell_type": "code",
   "execution_count": null,
   "id": "3dd7177b",
   "metadata": {},
   "outputs": [
    {
     "name": "stdout",
     "output_type": "stream",
     "text": [
      "\n",
      "\n"
     ]
    }
   ],
   "source": [
    "nombre = input(\"cual es tu nombre?\")\n",
    "print(nombre)\n"
   ]
  },
  {
   "cell_type": "code",
   "execution_count": 48,
   "id": "591e5faf",
   "metadata": {},
   "outputs": [
    {
     "name": "stdout",
     "output_type": "stream",
     "text": [
      "hola.mi nombre es alvaro guillen.mucho gusto\n"
     ]
    }
   ],
   "source": [
    "nombre = \"alvaro\"\n",
    "apellido = \"guillen\"\n",
    "print(f\"hola.mi nombre es {nombre} {apellido}.mucho gusto\")"
   ]
  },
  {
   "cell_type": "code",
   "execution_count": null,
   "id": "502c0b7f",
   "metadata": {},
   "outputs": [
    {
     "name": "stdout",
     "output_type": "stream",
     "text": [
      "gonzalo talavera\n",
      "hola, mi nombre es gonzalo talavera\n",
      "hola, mi nombre es: gonzalo talavera\n",
      "hola, mi nombre es gonzalo talavera\n"
     ]
    }
   ],
   "source": [
    "nombre =\"gonzalo\"\n",
    "apellido =\"talavera\"\n",
    "nombre_completo = nombre +' '+ apellido\n",
    "print(nombre+' '+apellido)\n",
    "\n",
    "print('hola, mi nombre es' + ' ' +nombre + ' ' + apellido)\n",
    "print(f\"hola, mi nombre es: {nombre} {apellido}\")\n",
    "print('hola, mi nombre es', nombre_completo)\n"
   ]
  },
  {
   "cell_type": "code",
   "execution_count": 30,
   "id": "b9ba6df6",
   "metadata": {},
   "outputs": [
    {
     "name": "stdout",
     "output_type": "stream",
     "text": [
      "30\n",
      "25\n"
     ]
    }
   ],
   "source": [
    "cantidad_de_manzanas = 20\n",
    "cantidad_de_naranjas = 10\n",
    "cantidad_de_frutas = cantidad_de_manzanas + cantidad_de_naranjas\n",
    "print(cantidad_de_frutas)\n",
    "\n",
    "frutas_vendidas = 5\n",
    "frutas_restantes = cantidad_de_frutas - frutas_vendidas\n",
    "print(frutas_restantes)"
   ]
  },
  {
   "cell_type": "code",
   "execution_count": 26,
   "id": "d603ebbf",
   "metadata": {},
   "outputs": [
    {
     "name": "stdout",
     "output_type": "stream",
     "text": [
      "35000\n",
      "30000\n",
      "5066\n"
     ]
    }
   ],
   "source": [
    "precio_total= 15000 + 20000\n",
    "print(precio_total)\n",
    "\n",
    "precio_total = precio_total - 5000\n",
    "print(precio_total)\n",
    "\n",
    "precio_gaseosa = 19000\n",
    "cantidad_gaseosa = 4\n",
    "cantidad_personas = 15\n",
    "precio_final = precio_gaseosa * cantidad_gaseosa\n",
    "promedio_por_persona = precio_final // cantidad_personas\n",
    "print(promedio_por_persona)"
   ]
  },
  {
   "cell_type": "markdown",
   "id": "3c181d87",
   "metadata": {},
   "source": [
    "## Operacion aritmetica\n",
    "suma +\n",
    "resta -\n",
    "division /\n",
    "multipliccion *\n",
    "diviaion entera //\n"
   ]
  },
  {
   "cell_type": "code",
   "execution_count": null,
   "id": "8d8fc9e9",
   "metadata": {},
   "outputs": [
    {
     "name": "stdout",
     "output_type": "stream",
     "text": [
      "numero\n"
     ]
    }
   ],
   "source": [
    "numero = 123456789\n",
    "numero_decimal = 1.2\n",
    "nombre = '\"Gonzalo\"'\n",
    "cajon_abierto = False\n",
    "print(nombre)\n"
   ]
  },
  {
   "cell_type": "code",
   "execution_count": null,
   "id": "f6661d1b",
   "metadata": {},
   "outputs": [],
   "source": [
    "## tipo de datos\n",
    "int - integer - 112\n",
    "float - floatin - 1.2\n",
    "str - string - \"gonzalo\"\n",
    "bool - boolean - True - False\n",
    "\n"
   ]
  },
  {
   "cell_type": "code",
   "execution_count": 17,
   "id": "3e639045",
   "metadata": {},
   "outputs": [
    {
     "name": "stdout",
     "output_type": "stream",
     "text": [
      "La resta es: 2\n"
     ]
    }
   ],
   "source": [
    "a = 5\n",
    "b = 3\n",
    "\n",
    "# restamos los dos números\n",
    "resta = a - b\n",
    "\n",
    "# Mostramos el resultado\n",
    "print(\"La resta es:\", resta)"
   ]
  },
  {
   "cell_type": "code",
   "execution_count": 16,
   "id": "c191c27d",
   "metadata": {},
   "outputs": [
    {
     "name": "stdout",
     "output_type": "stream",
     "text": [
      "La resta es: 8\n"
     ]
    }
   ],
   "source": [
    "a = 5\n",
    "b = 3\n",
    "\n",
    "# restamos los dos números\n",
    "resta = a + b\n",
    "\n",
    "# Mostramos el resultado\n",
    "print(\"La resta es:\", resta)"
   ]
  },
  {
   "cell_type": "code",
   "execution_count": 14,
   "id": "eac252a6",
   "metadata": {},
   "outputs": [
    {
     "ename": "SyntaxError",
     "evalue": "invalid syntax (2684577453.py, line 3)",
     "output_type": "error",
     "traceback": [
      "  \u001b[36mCell\u001b[39m\u001b[36m \u001b[39m\u001b[32mIn[14]\u001b[39m\u001b[32m, line 3\u001b[39m\n\u001b[31m    \u001b[39m\u001b[31mresta a - b\u001b[39m\n          ^\n\u001b[31mSyntaxError\u001b[39m\u001b[31m:\u001b[39m invalid syntax\n"
     ]
    }
   ],
   "source": [
    "a=10\n",
    "b=10\n",
    "resta a - b\n",
    "print(\"la resta es, resta\")"
   ]
  },
  {
   "cell_type": "code",
   "execution_count": 1,
   "id": "b3b1db5c",
   "metadata": {},
   "outputs": [
    {
     "name": "stdout",
     "output_type": "stream",
     "text": [
      "hola mundo\n"
     ]
    }
   ],
   "source": [
    "print(\"hola mundo\")"
   ]
  }
 ],
 "metadata": {
  "kernelspec": {
   "display_name": "Python 3",
   "language": "python",
   "name": "python3"
  },
  "language_info": {
   "codemirror_mode": {
    "name": "ipython",
    "version": 3
   },
   "file_extension": ".py",
   "mimetype": "text/x-python",
   "name": "python",
   "nbconvert_exporter": "python",
   "pygments_lexer": "ipython3",
   "version": "3.13.3"
  }
 },
 "nbformat": 4,
 "nbformat_minor": 5
}
