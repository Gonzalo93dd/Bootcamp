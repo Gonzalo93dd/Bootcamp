{
 "cells": [
  {
   "cell_type": "code",
   "execution_count": 171,
   "id": "928e80b3",
   "metadata": {},
   "outputs": [
    {
     "name": "stdout",
     "output_type": "stream",
     "text": [
      "1. 'o'\n",
      "2. 'o'\n",
      "3. 'o'\n",
      "4. 'o'\n"
     ]
    }
   ],
   "source": [
    "oracion = input(\"palabra\")\n",
    "contador = 0\n",
    "\n",
    "for letra in oracion:\n",
    "    if letra.lower() == \"o\":\n",
    "        contador += 1\n",
    "        print(f\"{contador}. 'o'\")"
   ]
  },
  {
   "cell_type": "code",
   "execution_count": 170,
   "id": "f0bdb847",
   "metadata": {},
   "outputs": [
    {
     "name": "stdout",
     "output_type": "stream",
     "text": [
      "o\n",
      "o\n",
      "o\n"
     ]
    }
   ],
   "source": [
    "#solicitar al usuario que ingrese una frase.\n",
    "#imprimir un mensaje cada vez que se encuentre una letra \"o\"\n",
    "\n",
    "frase = input(\"frase\")\n",
    "for letra in frase:\n",
    "    if letra == \"o\":\n",
    "        print(letra)"
   ]
  },
  {
   "cell_type": "code",
   "execution_count": null,
   "id": "e1dfaf3e",
   "metadata": {},
   "outputs": [
    {
     "name": "stdout",
     "output_type": "stream",
     "text": [
      "O\n",
      "o\n",
      "o\n",
      "o\n",
      "o\n",
      "o\n"
     ]
    }
   ],
   "source": [
    "#solicitar al usuario que ingrese una frase.\n",
    "#imprimir un mensaje cada vez que se encuentre una letra \"o\"\n",
    "\n",
    "frase = \"Otra oportunidad, otro sueño\"\n",
    "for letra in frase:\n",
    "    if letra == \"o\" or letra == \"O\":\n",
    "        print(letra)\n",
    "\n"
   ]
  },
  {
   "cell_type": "code",
   "execution_count": 141,
   "id": "e5afff94",
   "metadata": {},
   "outputs": [
    {
     "name": "stdout",
     "output_type": "stream",
     "text": [
      "10\n"
     ]
    }
   ],
   "source": [
    "texto = \"hola gonza\"\n",
    "print(len(texto))"
   ]
  },
  {
   "cell_type": "code",
   "execution_count": 140,
   "id": "f72ac184",
   "metadata": {},
   "outputs": [
    {
     "name": "stdout",
     "output_type": "stream",
     "text": [
      "adidas\n",
      "caterpiler\n",
      "motorola\n",
      "nvidia\n",
      "xiaiomi\n"
     ]
    }
   ],
   "source": [
    "#crear una lista de marcas\n",
    "#recorrer la lista de marcas\n",
    "#crear una condicios\n",
    "#si la palabra es mayor de 6 caracteres(lens)\n",
    "\n",
    "marcas = [\"nike\", \"adidas\", \"puma\", \"caterpiler\", \"motorola\", \"nvidia\", \"xiaiomi\"]\n",
    "for marca in marcas:\n",
    "    if len(marca) >= 6:\n",
    "        print(marca)"
   ]
  },
  {
   "cell_type": "code",
   "execution_count": 133,
   "id": "a8bc27b7",
   "metadata": {},
   "outputs": [
    {
     "name": "stdout",
     "output_type": "stream",
     "text": [
      "0 x 2 = 0\n",
      "1 x 2 = 2\n",
      "2 x 2 = 4\n",
      "3 x 2 = 6\n",
      "4 x 2 = 8\n",
      "5 x 2 = 10\n",
      "6 x 2 = 12\n",
      "7 x 2 = 14\n",
      "8 x 2 = 16\n",
      "9 x 2 = 18\n",
      "10 x 2 = 20\n"
     ]
    }
   ],
   "source": [
    "#Escribir un programa que itere en un rango de 10 veces. Por cada iteracion multiplicar el iterador por dos e imprimir el resultado.\n",
    "for i in range(11):\n",
    "    resultado = i * 2\n",
    "    print(f\"{i} x 2 = {resultado}\")"
   ]
  },
  {
   "cell_type": "code",
   "execution_count": 129,
   "id": "4761deb5",
   "metadata": {},
   "outputs": [
    {
     "name": "stdout",
     "output_type": "stream",
     "text": [
      "['coca', 'pan', 'azucar', 'gas', 'papel']\n",
      "['coca', 'pan', 'azucar', 'gas', 'papel']\n",
      "['coca', 'pan', 'azucar', 'gas', 'papel']\n",
      "['coca', 'pan', 'azucar', 'gas', 'papel']\n",
      "['coca', 'pan', 'azucar', 'gas', 'papel']\n"
     ]
    }
   ],
   "source": [
    "lista_de_compras = ['coca', 'pan', 'azucar', 'gas', 'papel']\n",
    "for articulo in lista_de_compras:\n",
    "    print(lista_de_compras)"
   ]
  },
  {
   "cell_type": "code",
   "execution_count": 120,
   "id": "1ff6f7ab",
   "metadata": {},
   "outputs": [
    {
     "name": "stdout",
     "output_type": "stream",
     "text": [
      "hola plaga\n",
      "hola plaga\n",
      "hola plaga\n",
      "hola plaga\n",
      "hola plaga\n"
     ]
    }
   ],
   "source": [
    "for i in range(5):\n",
    "    print(\"hola plaga\")"
   ]
  },
  {
   "cell_type": "code",
   "execution_count": 127,
   "id": "0ca69792",
   "metadata": {},
   "outputs": [
    {
     "name": "stdout",
     "output_type": "stream",
     "text": [
      "lunes\n",
      "2\n",
      "3\n",
      "4\n",
      "5\n",
      "6\n",
      "7\n",
      "dia:\n",
      "dia:\n",
      "dia:\n",
      "dia:\n",
      "dia:\n",
      "dia:\n",
      "dia:\n"
     ]
    }
   ],
   "source": [
    "dias_de_la_semana = [\"lunes\", 2, 3, 4, 5, 6, 7]\n",
    "for i in dias_de_la_semana:\n",
    "    print(i)\n",
    "\n",
    "dias_de_la_semana = [1, 2, 3, 4, 5, 6, 7]\n",
    "for i in dias_de_la_semana:\n",
    "    print(\"dia:\")"
   ]
  },
  {
   "cell_type": "markdown",
   "id": "63c7205e",
   "metadata": {},
   "source": [
    "#Crear una lista de 5 elementos. Luego, seguir los siguientes pasos.\n",
    "\n",
    "Agregar un elemento al final de la lista.\n",
    "\n",
    "Modificar el segundo elemento.\n",
    "\n",
    "Eliminar el tercer elemento."
   ]
  },
  {
   "cell_type": "code",
   "execution_count": 118,
   "id": "ac17b0ed",
   "metadata": {},
   "outputs": [
    {
     "name": "stdout",
     "output_type": "stream",
     "text": [
      "['coca', 'papel', 'gas', 'papel', 'fernet']\n"
     ]
    }
   ],
   "source": [
    "lista_de_compras = ['coca', 'pan', 'azucar', 'gas', 'papel']\n",
    "\n",
    "\n",
    "lista_de_compras.append('fernet')\n",
    "\n",
    "lista_de_compras[1] = 'papel'\n",
    "\n",
    "lista_de_compras.pop(2)\n",
    "print(lista_de_compras)"
   ]
  },
  {
   "cell_type": "code",
   "execution_count": null,
   "id": "8e465d8a",
   "metadata": {},
   "outputs": [
    {
     "name": "stdout",
     "output_type": "stream",
     "text": [
      "['pera', 'manzana', 'naranja', 'coco']\n",
      "['manzana', 'naranja', 'coco']\n",
      "['manzana', 'naranja']\n"
     ]
    }
   ],
   "source": [
    "lista_de_frutas = ['pera', 'manzana', 'naranja']\n",
    "\n",
    "#diferentes tipos de datos\n",
    "lista_bool = [True, False, True]\n",
    "lista_numeros = [1, 2, 3, 4]\n",
    "\n",
    "#agregar dato a la lista\n",
    "lista_de_frutas.append(\"coco\")\n",
    "print(lista_de_frutas)\n",
    "\n",
    "#eliminar de la lista un dato\n",
    "lista_de_frutas.remove(\"pera\")\n",
    "print(lista_de_frutas)\n",
    "\n",
    "#eliminar dato desde indice\n",
    "lista_de_frutas.pop(2)\n",
    "print(lista_de_frutas)\n",
    "\n"
   ]
  },
  {
   "cell_type": "code",
   "execution_count": null,
   "id": "e4026d72",
   "metadata": {},
   "outputs": [
    {
     "name": "stdout",
     "output_type": "stream",
     "text": [
      "lost\n"
     ]
    }
   ],
   "source": [
    "numero_perdido = 0\n",
    "numeros = 5\n",
    "while numero_perdido != numeros:\n",
    "    numero_perdido = int(input('lost'))\n",
    "    if numero_perdido == numeros:\n",
    "        print(\"correcto\")\n",
    "        break\n",
    "    else:\n",
    "        print(\"lost\")"
   ]
  },
  {
   "cell_type": "code",
   "execution_count": 95,
   "id": "54eeab2d",
   "metadata": {},
   "outputs": [
    {
     "name": "stdout",
     "output_type": "stream",
     "text": [
      "incorrecto\n",
      "incorrecto\n",
      "correcto crack!\n"
     ]
    }
   ],
   "source": [
    "numero = 10\n",
    "Contraseña = 0\n",
    "\n",
    "while Contraseña != numero:\n",
    "    Contraseña = int(input('contraseña secreta'))\n",
    "    if Contraseña == numero:\n",
    "        print(\"correcto crack!\")\n",
    "        break\n",
    "    else:\n",
    "        print(\"incorrecto\")"
   ]
  },
  {
   "cell_type": "code",
   "execution_count": 78,
   "id": "9b494c06",
   "metadata": {},
   "outputs": [],
   "source": [
    "numero_a_adivinar = 10\n",
    "numero = 3\n",
    "\n",
    "while numero != numero_a_adivinar:\n",
    "    numero = int(input('introducir numero'))\n",
    "    "
   ]
  },
  {
   "cell_type": "markdown",
   "id": "88cca5b4",
   "metadata": {},
   "source": [
    "#WHILE\n",
    "Repite un bloque de código mientras la condición sea verdadera.\n",
    "\n",
    "contador = 1\n",
    "\n",
    "while contador <= 5:\n",
    "    print(\"Contando:\", contador)\n",
    "    contador += 1\n",
    "\n",
    "\n",
    "¿Qué pasa acá?\n",
    "Arranca en 1.\n",
    "\n",
    "Imprime y suma 1 cada vez.\n",
    "\n",
    "Se repite hasta que contador sea 6.\n",
    "\n",
    "Cuando la condición deja de cumplirse, se termina el bucle.\n"
   ]
  },
  {
   "cell_type": "code",
   "execution_count": 76,
   "id": "b4ae503e",
   "metadata": {},
   "outputs": [
    {
     "name": "stdout",
     "output_type": "stream",
     "text": [
      "calor i\n"
     ]
    }
   ],
   "source": [
    "temperatura = int(input (\"grados celsius\"))\n",
    "\n",
    "if temperatura <= -10 and temperatura <=18:\n",
    "    print(\"refresca i\")\n",
    "elif temperatura >= 19 and temperatura >=30:\n",
    "    print(\"calor i\")\n",
    "elif temperatura >=31 and temperatura <=45:\n",
    "    print('hakuuuuuu')\n",
    "else:\n",
    "    print(\"JAUUU PUE\")"
   ]
  },
  {
   "cell_type": "code",
   "execution_count": 73,
   "id": "4ac216df",
   "metadata": {},
   "outputs": [
    {
     "name": "stdout",
     "output_type": "stream",
     "text": [
      "hakuuuuuu\n"
     ]
    }
   ],
   "source": [
    "temperatura = int(input (\"grados\"))\n",
    "\n",
    "grado = False\n",
    "if temperatura <= 18 and grado == False:\n",
    "    print(\"refresca i\")\n",
    "elif temperatura == 19 and grado == False:\n",
    "    print(\"calor i\")\n",
    "elif temperatura >=31 and grado == False:\n",
    "    print('hakuuuuuu')\n",
    "else:\n",
    "    print(\"JAUUU PUE\")"
   ]
  },
  {
   "cell_type": "code",
   "execution_count": 39,
   "id": "6d77bf29",
   "metadata": {},
   "outputs": [
    {
     "name": "stdout",
     "output_type": "stream",
     "text": [
      "activo\n"
     ]
    }
   ],
   "source": [
    "edad_del_trabajador = 35\n",
    "trabaja = False\n",
    "\n",
    "if edad_del_trabajador < 18:\n",
    "    print(\"trabaja\")\n",
    "elif edad_del_trabajador < 65 and trabaja == False:\n",
    "    print(\"activo\")\n",
    "elif edad_del_trabajador > 30 and trabaja == True:\n",
    "    print('desempleado')\n",
    "else:\n",
    "    print(\"jubilado\")\n",
    "\n"
   ]
  },
  {
   "cell_type": "code",
   "execution_count": 36,
   "id": "e0c8e5fe",
   "metadata": {},
   "outputs": [
    {
     "name": "stdout",
     "output_type": "stream",
     "text": [
      "podes tomar pero no comprar\n"
     ]
    }
   ],
   "source": [
    "edad_del_cuate = int(input (\"INGRESE EDAD\"))\n",
    "\n",
    "\n",
    "edad_de_usuario = 20\n",
    "if edad_de_usuario < 18:\n",
    "    print('juguito nomas')\n",
    "elif edad_de_usuario < 21:\n",
    "    print('podes tomar pero no comprar')\n",
    "elif edad_de_usuario > 21:\n",
    "    print('hace lo que quieras')\n"
   ]
  },
  {
   "cell_type": "code",
   "execution_count": 15,
   "id": "27afea50",
   "metadata": {},
   "outputs": [
    {
     "name": "stdout",
     "output_type": "stream",
     "text": [
      "trabajador\n"
     ]
    }
   ],
   "source": [
    "edad_individuo = 38\n",
    "\n",
    "if edad_individuo < 18:\n",
    "    print('estudiante')\n",
    "elif edad_individuo > 65:\n",
    "    print('jubilado')\n",
    "else:\n",
    "    print('trabajador')\n"
   ]
  },
  {
   "cell_type": "code",
   "execution_count": 8,
   "id": "45ecd883",
   "metadata": {},
   "outputs": [
    {
     "name": "stdout",
     "output_type": "stream",
     "text": [
      "es mayor, si puede ingresar\n"
     ]
    }
   ],
   "source": [
    "edad = 18\n",
    "if edad < 18:\n",
    "    print('es menor, no puede ingresar')\n",
    "else :\n",
    "    print('es mayor, si puede ingresar')"
   ]
  },
  {
   "cell_type": "code",
   "execution_count": null,
   "id": "eaec3b62",
   "metadata": {},
   "outputs": [],
   "source": [
    "##CONDICIONALES\n",
    "\n",
    "Los condicionales sirven para tomar decisiones en el código. \n",
    "Son como los “si pasa esto, hacé esto”. En Python, se usan con if, elif y else.\n",
    " \n",
    " Sintexis basica:\n",
    "\n",
    "edad = 18\n",
    "\n",
    "if edad >= 18:\n",
    "    print(\"Sos mayor de edad\")\n",
    "elif edad >= 13:\n",
    "    print(\"Sos adolescente\")\n",
    "else:\n",
    "    print(\"Sos menor\")\n",
    "\n"
   ]
  },
  {
   "cell_type": "code",
   "execution_count": null,
   "id": "0aed72a8",
   "metadata": {},
   "outputs": [
    {
     "ename": "NameError",
     "evalue": "name 'nombre' is not defined",
     "output_type": "error",
     "traceback": [
      "\u001b[31m---------------------------------------------------------------------------\u001b[39m",
      "\u001b[31mNameError\u001b[39m                                 Traceback (most recent call last)",
      "\u001b[36mCell\u001b[39m\u001b[36m \u001b[39m\u001b[32mIn[4]\u001b[39m\u001b[32m, line 1\u001b[39m\n\u001b[32m----> \u001b[39m\u001b[32m1\u001b[39m saludo_bienvenido(\u001b[43mnombre\u001b[49m)\n\u001b[32m      2\u001b[39m \u001b[38;5;28minput\u001b[39m(\u001b[33m'\u001b[39m\u001b[33mnombre\u001b[39m\u001b[33m'\u001b[39m)\n",
      "\u001b[31mNameError\u001b[39m: name 'nombre' is not defined"
     ]
    }
   ],
   "source": [
    "saludo_bienvenido(\n"
   ]
  },
  {
   "cell_type": "code",
   "execution_count": 3,
   "id": "9d14a4a5",
   "metadata": {},
   "outputs": [],
   "source": [
    "def saludo_bienvenido(x):\n",
    "    print(f'bien venido')"
   ]
  }
 ],
 "metadata": {
  "kernelspec": {
   "display_name": "Python 3",
   "language": "python",
   "name": "python3"
  },
  "language_info": {
   "codemirror_mode": {
    "name": "ipython",
    "version": 3
   },
   "file_extension": ".py",
   "mimetype": "text/x-python",
   "name": "python",
   "nbconvert_exporter": "python",
   "pygments_lexer": "ipython3",
   "version": "3.13.3"
  }
 },
 "nbformat": 4,
 "nbformat_minor": 5
}
