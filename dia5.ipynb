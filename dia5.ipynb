{
 "cells": [
  {
   "cell_type": "code",
   "execution_count": 2,
   "id": "8af8aa6e",
   "metadata": {},
   "outputs": [
    {
     "name": "stdout",
     "output_type": "stream",
     "text": [
      "{'nombre': 'Gonzalo', 'apellido': 'Talavera', 'celular': 98898019, 'edad': 32}\n"
     ]
    }
   ],
   "source": [
    "#Ejemplo de diccionario\n",
    "mi_contacto = {\"nombre\": \"Gonzalo\", \"apellido\": \"Talavera\", \"celular\":98898019, \"edad\":32}\n",
    "\n",
    "print(mi_contacto)\n",
    "\n"
   ]
  },
  {
   "cell_type": "code",
   "execution_count": 5,
   "id": "e59a6131",
   "metadata": {},
   "outputs": [],
   "source": [
    "mi_contacto = {\"nombre\": \"Gonzalo\", \n",
    "\"apellido\": \"Talavera\", \n",
    "\"celular\":98898019,\n",
    "\"edad\":32\n",
    "}"
   ]
  },
  {
   "cell_type": "code",
   "execution_count": null,
   "id": "c2ff31f0",
   "metadata": {},
   "outputs": [],
   "source": [
    "#Acceder al dato del diccionario\n",
    "mi_contacto[\"nombre\"]\n",
    "mi_contacto[\"apellido\"]\n",
    "\n",
    "\n",
    "#Desplegar datos del diccionario\n",
    "mi_contacto.keys()\n",
    "mi_contacto.values()\n",
    "mi_contacto.items()\n",
    "\n",
    "#Acualizar datos de mi diccionario\n",
    "mi_contacto['direccion'] = 'luis guanella'\n",
    "print(mi_contacto)\n",
    "\n",
    "#Modificar\n",
    "mi_contacto ['celular']= 123456789\n",
    "\n",
    "#Eliminar\n",
    "mi_contacto.popitem()\n",
    "print(mi_contacto)\n",
    "\n",
    "#eliminar datos por su clave\n",
    "del mi_contacto('edad') \n",
    "print(mi_contacto)\n"
   ]
  },
  {
   "cell_type": "markdown",
   "id": "f8e92a08",
   "metadata": {},
   "source": [
    "#Escribir un programa que cree un diccionario vacío y lo vaya llenado con información sobre una persona (por ejemplo nombre, edad, sexo, teléfono, correo electrónico, etc.) que se le pida al usuario. Cada vez que se añada un nuevo dato debe imprimirse el contenido del diccionario."
   ]
  },
  {
   "cell_type": "code",
   "execution_count": 22,
   "id": "3035a055",
   "metadata": {},
   "outputs": [
    {
     "name": "stdout",
     "output_type": "stream",
     "text": [
      "{'significado': 'Caminar significa desplazarse a pie de un lugar a otro.', 'sinonimo': 'marchar, andar', 'antonimo': 'detenerse, quedarse'}\n"
     ]
    }
   ],
   "source": [
    "Volar = { \"significado\": \"significa desplazarse por el aire usando alas o un medio que lo permita, como un avión o un pájaro.\", \"sinonimo\": \"flotar\", \"antonimo\": \"caer\" }\n",
    "\n",
    "caminar = {\"significado\": \"Caminar significa desplazarse a pie de un lugar a otro.\", \"sinonimo\":\"marchar, andar\", \"antonimo\":\"detenerse, quedarse\"}\n",
    "print(caminar)"
   ]
  },
  {
   "cell_type": "code",
   "execution_count": 26,
   "id": "a49461eb",
   "metadata": {},
   "outputs": [
    {
     "data": {
      "text/plain": [
       "dict_values(['significa desplazarse por el aire usando alas o un medio que lo permita, como un avión o un pájaro.', 'flotar', 'caer'])"
      ]
     },
     "execution_count": 26,
     "metadata": {},
     "output_type": "execute_result"
    }
   ],
   "source": [
    "caminar.values()\n",
    "\n",
    "Volar.values()"
   ]
  },
  {
   "cell_type": "code",
   "execution_count": null,
   "id": "4c5988d6",
   "metadata": {},
   "outputs": [],
   "source": [
    "#copia de lujan\n",
    "\n",
    "mi_diccionario = {}\n",
    "nombre = input(\"Ingrese su nombre: \")\n",
    "mi_diccionario = {\"nombre\": nombre}\n",
    "print(mi_diccionario)\n",
    "apellido_ingresado = input(\"Ingrese su apellido: \")\n",
    "mi_diccionario = {\"nombre\": nombre, \"apellido\": apellido_ingresado}\n",
    "print(mi_diccionario)\n",
    "genero_ingresado = input(\"Ingrese si es del genero Masculino o Femenino: \")\n",
    "mi_diccionario = {\"nombre\": nombre, \"apellido\": apellido_ingresado, \"genero\": genero_ingresado}\n",
    "print(mi_diccionario)\n",
    "edad_ingresado = int(input(\"Ingrese su edad: \"))\n",
    "mi_diccionario = {\"nombre\": nombre, \"apellido\": apellido_ingresado, \"genero\": genero_ingresado, \"edad\": edad_ingresado}\n",
    "print(mi_diccionario)\n",
    "numero_celular_ingresado = int(input(\"Ingrese su numero celular: \"))\n",
    "mi_diccionario = {\"nombre\": nombre, \"apellido\": apellido_ingresado, \"genero\": genero_ingresado, \"edad\": edad_ingresado, \"celular\": numero_celular_ingresado}\n",
    "print(mi_diccionario)"
   ]
  },
  {
   "cell_type": "markdown",
   "id": "203ce716",
   "metadata": {},
   "source": [
    "tarjeta = {}\n",
    "\n",
    "while True:\n",
    "    print(\"\\n--- MENÚ ---\")\n",
    "    print(\"1. Crear datos nuevos\")\n",
    "    print(\"2. Modificar datos\")\n",
    "    print(\"3. Eliminar datos\")\n",
    "    print(\"4. Salir\")\n",
    "\n",
    "    opcion = input(\"Elegí una opción (1-4): \")\n",
    "\n",
    "    if opcion == \"1\":\n",
    "        clave = input(\"¿Qué dato querés agregar? (Ej: nombre, edad): \")\n",
    "        valor = input(f\"Ingresá el valor para '{clave}': \")\n",
    "        tarjeta[clave] = valor\n",
    "        print(\"Dato agregado:\", tarjeta)\n",
    "\n",
    "    elif opcion == \"2\":\n",
    "        clave = input(\"¿Qué dato querés modificar? \")\n",
    "        if clave in tarjeta:\n",
    "            valor = input(f\"Ingresá el nuevo valor para '{clave}': \")\n",
    "            tarjeta[clave] = valor\n",
    "            print(\"Dato modificado:\", tarjeta)\n",
    "        else:\n",
    "            print(\"Ese dato no existe.\")\n",
    "\n",
    "    elif opcion == \"3\":\n",
    "        clave = input(\"¿Qué dato querés eliminar? \")\n",
    "        if clave in tarjeta:\n",
    "            del tarjeta[clave]\n",
    "            print(f\"Dato '{clave}' eliminado. Tarjeta actual:\", tarjeta)\n",
    "        else:\n",
    "            print(\"Ese dato no existe.\")\n",
    "\n",
    "    elif opcion == \"4\":\n",
    "        print(\"¡Hasta luego!\")\n",
    "        break\n",
    "\n",
    "    else:\n",
    "        print(\"Opción inválida. Elegí del 1 al 4.\")\n"
   ]
  },
  {
   "cell_type": "code",
   "execution_count": null,
   "id": "72262b75",
   "metadata": {},
   "outputs": [],
   "source": [
    "tarjeta = {}\n",
    "\n",
    "print(\"Opciones:\")\n",
    "print(\"1. Crear datos nuevos\")\n",
    "print(\"2. Modificar datos\")\n",
    "print(\"3. Eliminar datos\")\n",
    "\n",
    "opcion = input(\"Elegí una opción (1/2/3): \")\n",
    "\n",
    "if opcion == \"1\":\n",
    "    clave = input(\"¿Qué dato querés agregar? (ej: nombre, edad): \")\n",
    "    valor = input(f\"Ingresá el valor para {clave}: \")\n",
    "    tarjeta[clave] = valor\n",
    "    print(\"Tarjeta actual:\", tarjeta)\n",
    "\n",
    "elif opcion == \"2\":\n",
    "    clave = input(\"¿Qué dato querés modificar? \")\n",
    "    valor = input(f\"Ingresá el nuevo valor para {clave}: \")\n",
    "    tarjeta[clave] = valor\n",
    "    print(\"Tarjeta actual:\", tarjeta)\n",
    "\n",
    "elif opcion == \"3\":\n",
    "    clave = input(\"¿Qué dato querés eliminar? \")\n",
    "    del tarjeta[clave]\n",
    "    print(\"Dato eliminado. Tarjeta actual:\", tarjeta)\n",
    "\n",
    "else:\n",
    "    print(\"Opción inválida.\")\n"
   ]
  },
  {
   "cell_type": "code",
   "execution_count": 50,
   "id": "a2084353",
   "metadata": {},
   "outputs": [
    {
     "name": "stdout",
     "output_type": "stream",
     "text": [
      "{'nombre': 'Gonzalo', 'apellido': 'Talavera', 'celular': 98898019, 'edad': 32}\n",
      "{'nombre': 'Gonzalo', 'apellido': 'Talavera', 'celular': 123456789}\n"
     ]
    }
   ],
   "source": [
    "Tarjeta_personal = {\"nombre\": \"Gonzalo\", \"apellido\": \"Talavera\", \"celular\":98898019, \"edad\":32}\n",
    "print(Tarjeta_personal)\n",
    "Tarjeta_personal ['celular']= 123456789\n",
    "Tarjeta_personal.values()\n",
    "del Tarjeta_personal['edad']\n",
    "print(Tarjeta_personal)\n",
    "\n"
   ]
  },
  {
   "cell_type": "code",
   "execution_count": null,
   "id": "0b2c8993",
   "metadata": {},
   "outputs": [],
   "source": [
    "### Challenge 2 🤺\n",
    "\n",
    "#Challenge 2 🤺\n",
    "#Crear una tarjeta personal. El usuario (mediante input) puede elegir:\n",
    "\n",
    "#1. Crear datos nuevos\n",
    "#2. Modificar datos\n",
    "#3. Eliminar datos \n",
    "\n",
    "Tarjeta = {}\n",
    "\n",
    "dato = input(\"nombre\")\n",
    "valor = input(f\"ingrese la edad'{dato}':\")\n",
    "\n",
    "tarjeta[dato] = valor\n",
    "print(\"tu tarjeta\")\n",
    "print(tarjeta)"
   ]
  },
  {
   "cell_type": "code",
   "execution_count": null,
   "id": "4ddf6435",
   "metadata": {},
   "outputs": [],
   "source": [
    "credencial = {}\n",
    "\n",
    "'''\n",
    "El usuario debe seleccionar\n",
    "1-crear\n",
    "2-modificar\n",
    "3-eliminar\n",
    "'''\n",
    "while True:\n",
    "    Seleccion = int(input(\"ingrese una opcion\"))\n",
    "if Seleccion == 1:\n",
    "    clave = input('ingrese la clave')\n",
    "    valor = input('ingrese el valor')\n",
    "    Tarjeta_personal[clave]=valor\n",
    "    print(Tarjeta_personal)\n",
    "elif Seleccion == 2:\n",
    "    Tarjeta_personal.keys()\n",
    "    clave = input('ingrese la clave')\n",
    "    valor = input('ingrese el valor')\n",
    "    Tarjeta_personal[clave]=valor\n",
    "    print(Tarjeta_personal)\n",
    "elif Seleccion == 3:\n",
    "    Tarjeta_personal.keys()\n",
    "    clave = input(\"eliminar\")\n",
    "    del Tarjeta_personal[clave]\n",
    "elif Seleccion == 4:\n",
    "    print(\"gracias por todo\")\n",
    "    break\n",
    "else:\n",
    "    (\"no es valido\")\n",
    "\n",
    "    \n",
    "    "
   ]
  },
  {
   "cell_type": "code",
   "execution_count": null,
   "id": "30b8744f",
   "metadata": {},
   "outputs": [
    {
     "name": "stdout",
     "output_type": "stream",
     "text": [
      "{'gonzalo': {'celular': 985898019}}\n"
     ]
    }
   ],
   "source": [
    "Agenda = {}\n",
    "Agenda[\"gonzalo\"] = {\"celular\": 985898019}\n",
    "Agenda[\"gonzalo\"] = {\"celular\": 985898019}\n"
   ]
  },
  {
   "cell_type": "code",
   "execution_count": null,
   "id": "1fc1a42a",
   "metadata": {},
   "outputs": [],
   "source": [
    "#1- MOSTRAR CONTACTA\n",
    "#2- CREAR CONTACTO\n",
    "#3- MODIFICAR DATOS DEL CONTACTO\n",
    "\n",
    "# Diccionario vacío para guardar el contacto\n",
    "contacto = {}\n",
    "\n",
    "while True:\n",
    "    print(\"MENÚ\")\n",
    "    print(\"1. Mostrar contacto\")\n",
    "    print(\"2. Crear contacto\")\n",
    "    print(\"3. Modificar datos del contacto\")\n",
    "    print(\"4. Salir\")\n",
    "\n",
    "    opcion = input(\"Elegí una opción (1/2/3/4): \")\n",
    "\n",
    "    if opcion == \"1\":\n",
    "        if contacto:\n",
    "            print(\"CONTACTO\")\n",
    "            for clave, valor in contacto.items():\n",
    "                print(f\"{clave.capitalize()}: {valor}\")\n",
    "        else:\n",
    "            print(\"Aún no hay un contacto creado.\")\n",
    "\n",
    "    elif opcion == \"2\":\n",
    "        dato = input(\"¿Qué dato querés agregar al contacto? (ej: nombre, edad): \")\n",
    "        valor = input(f\"Ingresá el valor para '{dato}': \")\n",
    "        contacto[dato] = valor\n",
    "        print(\"Contacto creado:\", contacto)\n",
    "\n",
    "    elif opcion == \"3\":\n",
    "        dato = input(\"¿Qué dato del contacto querés modificar? (ej: nombre, edad): \")\n",
    "        if dato in contacto:\n",
    "            nuevo_valor = input(f\"Ingresá el nuevo valor para '{dato}': \")\n",
    "            contacto[dato] = nuevo_valor\n",
    "            print(\"Dato modificado:\", contacto)\n",
    "        else:\n",
    "            print(f\"El dato '{dato}' no existe en el contacto.\")\n",
    "\n",
    "    elif opcion == \"4\":\n",
    "        print(\"¡Hasta luego!\")\n",
    "        break\n",
    "\n",
    "    else:\n",
    "        print(\"Opción inválida. Elegí una opción entre 1 y 4.\")\n"
   ]
  },
  {
   "cell_type": "code",
   "execution_count": null,
   "id": "b865bde2",
   "metadata": {},
   "outputs": [
    {
     "name": "stdout",
     "output_type": "stream",
     "text": [
      "2\n"
     ]
    }
   ],
   "source": [
    "#diferencias comunes\n",
    "class Humano:\n",
    "    ojos = 2\n",
    "    brazos = 2\n",
    "\n",
    "eduardo = Humano()\n",
    "\n",
    "\n",
    "print(eduardo.ojos)"
   ]
  },
  {
   "cell_type": "code",
   "execution_count": 87,
   "id": "ae66e6fb",
   "metadata": {},
   "outputs": [
    {
     "ename": "TypeError",
     "evalue": "Perro() takes no arguments",
     "output_type": "error",
     "traceback": [
      "\u001b[31m---------------------------------------------------------------------------\u001b[39m",
      "\u001b[31mTypeError\u001b[39m                                 Traceback (most recent call last)",
      "\u001b[36mCell\u001b[39m\u001b[36m \u001b[39m\u001b[32mIn[87]\u001b[39m\u001b[32m, line 16\u001b[39m\n\u001b[32m     12\u001b[39m \u001b[38;5;28;01mdef\u001b[39;00m\u001b[38;5;250m \u001b[39m\u001b[34mcaminar\u001b[39m(\u001b[38;5;28mself\u001b[39m):\n\u001b[32m     13\u001b[39m     \u001b[38;5;28;01mreturn\u001b[39;00m(\u001b[33m\"\u001b[39m\u001b[33mcamina dando saltitos\u001b[39m\u001b[33m\"\u001b[39m)\n\u001b[32m---> \u001b[39m\u001b[32m16\u001b[39m yuwailer = \u001b[43mPerro\u001b[49m\u001b[43m(\u001b[49m\u001b[33;43m'\u001b[39;49m\u001b[33;43mnegro\u001b[39;49m\u001b[33;43m'\u001b[39;49m\u001b[43m,\u001b[49m\u001b[43m \u001b[49m\u001b[33;43m'\u001b[39;49m\u001b[33;43mcaniche\u001b[39;49m\u001b[33;43m'\u001b[39;49m\u001b[43m)\u001b[49m\n\u001b[32m     17\u001b[39m \u001b[38;5;28mprint\u001b[39m(yuwailer.color, yuwailer.patas)\n",
      "\u001b[31mTypeError\u001b[39m: Perro() takes no arguments"
     ]
    }
   ],
   "source": [
    "class Perro:\n",
    "    color = 2\n",
    "    patas = 4\n",
    "#diferencias de instancia\n",
    "def __init__(self, color, raza):\n",
    "    self.color = color\n",
    "    self.raza = raza\n",
    "#acciones realizadas\n",
    "def ladrido(self):\n",
    "    print(\"guau guau\")\n",
    "\n",
    "def caminar(self):\n",
    "    return(\"camina dando saltitos\")\n",
    "\n",
    "\n",
    "yuwailer = Perro('negro', 'caniche')\n",
    "print(yuwailer.color, yuwailer.patas)"
   ]
  },
  {
   "cell_type": "code",
   "execution_count": 108,
   "id": "bd242b96",
   "metadata": {},
   "outputs": [
    {
     "name": "stdout",
     "output_type": "stream",
     "text": [
      "negro 4\n"
     ]
    }
   ],
   "source": [
    "class Perro:\n",
    "    patas = 4\n",
    "\n",
    "    def __init__(self, color, raza):\n",
    "        self.color = color\n",
    "        self.raza = raza\n",
    "\n",
    "    def ladrido(self):\n",
    "        print(\"guau guau\")\n",
    "\n",
    "    def caminar(self):\n",
    "        return \"camina dando saltitos\"\n",
    "\n",
    "# Crear instancia\n",
    "yuwailer = Perro('negro', 'caniche')\n",
    "print(yuwailer.color, yuwailer.patas)\n"
   ]
  },
  {
   "cell_type": "code",
   "execution_count": null,
   "id": "bcebb756",
   "metadata": {},
   "outputs": [],
   "source": [
    "#yuwailer = Perro(\"marron\", \"delmer\")\n",
    "print(yuwailer.raza, yuwailer.color)"
   ]
  },
  {
   "cell_type": "code",
   "execution_count": null,
   "id": "23748280",
   "metadata": {},
   "outputs": [],
   "source": [
    "## Challenge 🤺\n",
    "Crear dos métodos para nuestro animal y ejecutar, debe ser algo específico de ese animal.\n",
    "\n",
    "Ejemplo: \"Cuando hablo, digo X\".\n",
    "Ejemplo: \"Cuando me muevo, hago X\"."
   ]
  },
  {
   "cell_type": "code",
   "execution_count": null,
   "id": "3504287b",
   "metadata": {},
   "outputs": [],
   "source": [
    "class Perro:\n",
    "    ojos = 2\n",
    "    patas = 4\n",
    "\n",
    "#diferencias de instancia\n",
    "def __init__(self, color, raza):\n",
    "    self.color = color\n",
    "    self.raza = raza\n",
    "    #acciones realizadas\n",
    "def ladrido(self):\n",
    "    print(\"guau guau\")\n",
    "\n",
    "def caminar(self):\n",
    "    return(\"camina dando saltitos\")\n",
    "\n",
    "\n",
    "\n"
   ]
  },
  {
   "cell_type": "code",
   "execution_count": null,
   "id": "cb489d16",
   "metadata": {},
   "outputs": [],
   "source": [
    "class gato:\n",
    "    patas = 4\n",
    "    orejas = 2\n",
    "    cola = 1\n",
    "\n",
    "    def __init__(self, color, raza):\n",
    "        self.amarillo = color\n",
    "        self.raza = raza\n",
    "\n",
    "    def saltar(self):\n",
    "        print(\"estoy saltando\")\n",
    "\n",
    "miso = gato(\"rojo\", \"delmer\")\n",
    "\n"
   ]
  },
  {
   "cell_type": "code",
   "execution_count": null,
   "id": "75b2c4c1",
   "metadata": {},
   "outputs": [
    {
     "ename": "AttributeError",
     "evalue": "'Gatito' object has no attribute 'maulla'",
     "output_type": "error",
     "traceback": [
      "\u001b[31m---------------------------------------------------------------------------\u001b[39m",
      "\u001b[31mAttributeError\u001b[39m                            Traceback (most recent call last)",
      "\u001b[36mCell\u001b[39m\u001b[36m \u001b[39m\u001b[32mIn[107]\u001b[39m\u001b[32m, line 8\u001b[39m\n\u001b[32m      5\u001b[39m         \u001b[38;5;28mprint\u001b[39m(\u001b[33m'\u001b[39m\u001b[33mjuega con la pelota\u001b[39m\u001b[33m'\u001b[39m)\n\u001b[32m      7\u001b[39m michi = Gatito(\u001b[33m'\u001b[39m\u001b[33mgris\u001b[39m\u001b[33m'\u001b[39m, \u001b[33m'\u001b[39m\u001b[33mpequeño\u001b[39m\u001b[33m'\u001b[39m)\n\u001b[32m----> \u001b[39m\u001b[32m8\u001b[39m \u001b[43mmichi\u001b[49m\u001b[43m.\u001b[49m\u001b[43mmaulla\u001b[49m()\n\u001b[32m      9\u001b[39m michi.jugar()\n",
      "\u001b[31mAttributeError\u001b[39m: 'Gatito' object has no attribute 'maulla'"
     ]
    }
   ],
   "source": [
    "class Gatito(gato):\n",
    "    cola = 1\n",
    "    \n",
    "    def jugar(self):\n",
    "        print('juega con la pelota')\n",
    "        \n",
    "michi = Gatito('gris', 'pequeño')\n",
    "\n"
   ]
  },
  {
   "cell_type": "markdown",
   "id": "229d3fc3",
   "metadata": {},
   "source": [
    "## Challenge 🤺\n",
    "Definir una clase madre que herede a sus clases hijas dos atributos de instancia. Mostrar ambos atributos en pantalla desde los objetos de las clases hijas.\n",
    "\n",
    "Observación: Editar las clases hijas para que no se inicialicen."
   ]
  },
  {
   "cell_type": "code",
   "execution_count": 118,
   "id": "84beb5b1",
   "metadata": {},
   "outputs": [
    {
     "name": "stdout",
     "output_type": "stream",
     "text": [
      "plata Ford Motor\n"
     ]
    }
   ],
   "source": [
    "class Auto:\n",
    "    ruedas = 4\n",
    "    ventanas = 4\n",
    "    puertas = 2\n",
    "\n",
    "    def __init__(self, color, marca):\n",
    "        self.color = color\n",
    "        self.marca = marca\n",
    "    \n",
    "    def arranque(self):\n",
    "        print(\"runw ruw\")\n",
    "\n",
    "    def freno(self):\n",
    "        print (\"alto ahi\")\n",
    "\n",
    "mustang = Auto('plata', 'Ford Motor')\n",
    "print(mustang.color, mustang.marca)\n",
    "\n"
   ]
  },
  {
   "cell_type": "code",
   "execution_count": 123,
   "id": "99274947",
   "metadata": {},
   "outputs": [
    {
     "name": "stdout",
     "output_type": "stream",
     "text": [
      "gris toyota\n"
     ]
    }
   ],
   "source": [
    "class Autito(Auto):\n",
    "    ruedas = 4\n",
    "    ventanas = 4\n",
    "    puertas = 4\n",
    "\n",
    "    def arranque(self):\n",
    "        print(\"rin rin\")\n",
    "\n",
    "    def freno(self):\n",
    "        print(\"se desarma\")\n",
    "        #Creamos un objeto o referencia\n",
    "Vitz = Autito('gris', 'toyota')\n",
    "print(Vitz.color, Vitz.marca)\n",
    "\n"
   ]
  },
  {
   "cell_type": "markdown",
   "id": "91769b1e",
   "metadata": {},
   "source": [
    "class Gatito(Gato):  # <- hereda de Gato (con G mayúscula)\n",
    "    cola = 1\n",
    "\n",
    "    def jugar(self):\n",
    "        print(\"juega con la pelota\")\n",
    "\n",
    "# Creamos un objeto\n",
    "michi = Gatito('gris', 'pequeño')\n",
    "print(michi.color, michi.tamaño)\n",
    "michi.maullar()\n",
    "michi.jugar()\n",
    "\n",
    "######## \n",
    " def __init__(self, color, raza):\n",
    "        self.color = color\n",
    "        self.raza = raza\n",
    "\n",
    "    def ladrido(self):\n",
    "        print(\"guau guau\")\n",
    "\n",
    "    def caminar(self):\n",
    "        return \"camina dando saltitos\"\n",
    "\n",
    "# Crear instancia\n",
    "yuwailer = Perro('negro', 'caniche')\n",
    "print(yuwailer.color, yuwailer.patas)"
   ]
  }
 ],
 "metadata": {
  "kernelspec": {
   "display_name": "Python 3",
   "language": "python",
   "name": "python3"
  },
  "language_info": {
   "codemirror_mode": {
    "name": "ipython",
    "version": 3
   },
   "file_extension": ".py",
   "mimetype": "text/x-python",
   "name": "python",
   "nbconvert_exporter": "python",
   "pygments_lexer": "ipython3",
   "version": "3.13.3"
  }
 },
 "nbformat": 4,
 "nbformat_minor": 5
}
