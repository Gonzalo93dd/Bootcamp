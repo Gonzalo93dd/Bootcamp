{
 "cells": [
  {
   "cell_type": "code",
   "execution_count": null,
   "id": "5a3b8a59",
   "metadata": {},
   "outputs": [],
   "source": [
    "##Challenge 1: Registro de Tareas con Diccionarios"
   ]
  },
  {
   "cell_type": "code",
   "execution_count": 9,
   "id": "e0eb0041",
   "metadata": {},
   "outputs": [
    {
     "name": "stdout",
     "output_type": "stream",
     "text": [
      "Tarea: Estudiar Python - Estado: en progreso\n",
      "Tarea: Hacer ejercicio - Estado: pendiente\n",
      "Tarea: cocinar - Estado: en progreso\n"
     ]
    }
   ],
   "source": [
    "#MODO SENCILLO:\n",
    "\n",
    "tareas = {\n",
    "    \"Estudiar Python\": \"pendiente\",\n",
    "    \n",
    "    \"Pagar cuentas\": \"completada\"\n",
    "}\n",
    "\n",
    "\n",
    "tareas[\"Hacer ejercicio\"] = \"pendiente\"\n",
    "\n",
    "\n",
    "tareas[\"Estudiar Python\"] = \"en progreso\"\n",
    "\n",
    "\n",
    "del tareas[\"Pagar cuentas\"]\n",
    "\n",
    "tareas[\"cocinar\"] = \"en progreso\"\n",
    "\n",
    "\n",
    "for tarea, estado in tareas.items():\n",
    "    print(f\"Tarea: {tarea} - Estado: {estado}\")\n",
    "    \n",
    "    #en caso de borrar un estado usamos del antes de la tarea.\n"
   ]
  },
  {
   "cell_type": "code",
   "execution_count": null,
   "id": "9b61b96e",
   "metadata": {},
   "outputs": [
    {
     "name": "stdout",
     "output_type": "stream",
     "text": [
      "\n",
      "Gestor de Tareas\n",
      "1. Agregar tarea\n",
      "2. Modificar estado de una tarea\n",
      "3. Eliminar tarea\n",
      "4. Mostrar tareas\n",
      "5. Salir\n",
      "Tarea agregada.\n",
      "\n",
      "Gestor de Tareas\n",
      "1. Agregar tarea\n",
      "2. Modificar estado de una tarea\n",
      "3. Eliminar tarea\n",
      "4. Mostrar tareas\n",
      "5. Salir\n",
      "Tarea: lavar ropa - Estado: completado\n",
      "\n",
      "Gestor de Tareas\n",
      "1. Agregar tarea\n",
      "2. Modificar estado de una tarea\n",
      "3. Eliminar tarea\n",
      "4. Mostrar tareas\n",
      "5. Salir\n",
      "Chau! Cerrando gestor...\n"
     ]
    }
   ],
   "source": [
    "##intentando con INPUT## NO USAR\n",
    "\n",
    "tareas = {}\n",
    "\n",
    "def mostrar_tareas():\n",
    "    if tareas:\n",
    "        for t, e in tareas.items():\n",
    "            print(f\"Tarea: {t} - Estado: {e}\")\n",
    "    else:\n",
    "        print(\"No hay tareas cargadas.\")\n",
    "\n",
    "while True:\n",
    "    print(\"\\nGestor de Tareas\")\n",
    "    print(\"1. Agregar tarea\")\n",
    "    print(\"2. Modificar estado de una tarea\")\n",
    "    print(\"3. Eliminar tarea\")\n",
    "    print(\"4. Mostrar tareas\")\n",
    "    print(\"5. Salir\")\n",
    "\n",
    "    opcion = input(\"Elegí una opción: \")\n",
    "\n",
    "    if opcion == \"1\":\n",
    "        nombre = input(\"Nombre de la tarea: \")\n",
    "        estado = input(\"Estado (pendiente, en progreso, completada): \")\n",
    "        tareas[nombre] = estado\n",
    "        print(\"Tarea agregada.\")\n",
    "\n",
    "    elif opcion == \"2\":\n",
    "        nombre = input(\"Nombre de la tarea a modificar: \")\n",
    "        if nombre in tareas:\n",
    "            nuevo_estado = input(\"Nuevo estado: \")\n",
    "            tareas[nombre] = nuevo_estado\n",
    "            print(\"Estado actualizado.\")\n",
    "        else:\n",
    "            print(\"Esa tarea no existe.\")\n",
    "\n",
    "    elif opcion == \"3\":\n",
    "        nombre = input(\"Nombre de la tarea a eliminar: \")\n",
    "        if nombre in tareas:\n",
    "            del tareas[nombre]\n",
    "            print(\"Tarea eliminada.\")\n",
    "        else:\n",
    "            print(\"No se encontró esa tarea.\")\n",
    "\n",
    "    elif opcion == \"4\":\n",
    "        mostrar_tareas()\n",
    "\n",
    "    elif opcion == \"5\":\n",
    "        print(\"Chau! Cerrando gestor...\")\n",
    "        break\n",
    "\n",
    "    else:\n",
    "        print(\"Opción inválida.\")\n",
    "\n"
   ]
  },
  {
   "cell_type": "code",
   "execution_count": null,
   "id": "4de49d4a",
   "metadata": {},
   "outputs": [],
   "source": [
    "tareas = {}\n",
    "\n",
    "def mostrar_tareas():\n",
    "    if tareas:\n",
    "        for t, e in tareas.items():\n",
    "            print(f\"Tarea: {t} - Estado: {e}\")\n",
    "    else:\n",
    "        print(\"No hay tareas cargadas.\")\n",
    "\n",
    "print(\"Gestor de Tareas\")\n",
    "print(\"1. Agregar tarea\")\n",
    "print(\"2. Modificar estado de una tarea\")\n",
    "print(\"3. Eliminar tarea\")\n",
    "print(\"4. Mostrar tareas\")\n",
    "print(\"5. Salir\")\n",
    "\n",
    "while True:\n",
    "    opcion = input(\"\\nElegí una opción (1-5): \")\n",
    "\n",
    "    if opcion == \"1\":\n",
    "        nombre = input(\"Nombre de la tarea: \")\n",
    "        estado = input(\"Estado (pendiente, en progreso, completada): \")\n",
    "        tareas[nombre] = estado\n",
    "        print(\"Tarea agregada.\")\n",
    "\n",
    "    elif opcion == \"2\":\n",
    "        nombre = input(\"Nombre de la tarea a modificar: \")\n",
    "        if nombre in tareas:\n",
    "            nuevo_estado = input(\"Nuevo estado: \")\n",
    "            tareas[nombre] = nuevo_estado\n",
    "            print(\"Estado actualizado.\")\n",
    "        else:\n",
    "            print(\"Esa tarea no existe.\")\n",
    "\n",
    "    elif opcion == \"3\":\n",
    "        nombre = input(\"Nombre de la tarea a eliminar: \")\n",
    "        if nombre in tareas:\n",
    "            del tareas[nombre]\n",
    "            print(\"Tarea eliminada.\")\n",
    "        else:\n",
    "            print(\"No se encontró esa tarea.\")\n",
    "\n",
    "    elif opcion == \"4\":\n",
    "        mostrar_tareas()\n",
    "\n",
    "    elif opcion == \"5\":\n",
    "        print(\"Chau! japiro\")\n",
    "        break\n",
    "\n",
    "    else:\n",
    "        print(\"Opción inválida.\")\n",
    "        \n",
    "#CORREGIDO#\n"
   ]
  },
  {
   "cell_type": "code",
   "execution_count": null,
   "id": "288d8a8e",
   "metadata": {},
   "outputs": [],
   "source": [
    "##Challenge 2: Adivina el Número"
   ]
  },
  {
   "cell_type": "code",
   "execution_count": 8,
   "id": "2fce8b12",
   "metadata": {},
   "outputs": [
    {
     "name": "stdout",
     "output_type": "stream",
     "text": [
      "Adiviná el número secreto (entre 1 y 50). Tenés 3 intentos.\n",
      "El número secreto es menor\n",
      "El número secreto es menor\n",
      "¡Felicidades! Adivinaste\n"
     ]
    }
   ],
   "source": [
    "\n",
    "numero_secreto = 10\n",
    "intentos_maximos = 3\n",
    "\n",
    "print(\"Adiviná el número secreto (entre 1 y 50). Tenés 3 intentos.\")\n",
    "\n",
    "for intento in range(intentos_maximos):\n",
    "    intento_usuario = int(input(f\"Intento {intento + 1}: ¿Qué número pensás que es? \"))\n",
    "\n",
    "    if intento_usuario == numero_secreto:\n",
    "        print(\"¡Felicidades! Adivinaste\")\n",
    "        break\n",
    "    elif intento_usuario < numero_secreto:\n",
    "        print(\"El número secreto es mayor\")\n",
    "    else:\n",
    "        print(\"El número secreto es menor\")\n",
    "else:\n",
    "    print(\"No lograste adivinar el número. El número secreto era\", numero_secreto)\n"
   ]
  },
  {
   "cell_type": "markdown",
   "id": "a7434f4d",
   "metadata": {},
   "source": [
    "1 numero_secreto = 7\n",
    "#bueno elegimos un numero x como secreto\n",
    "\n",
    "2 intentos_maximos = 3\n",
    "#cantidad de intentos que vamos a ver\n",
    "\n",
    "3 print(\"Adiviná el número secreto (entre 1 y 50). Tenés 3 intentos.\")\n",
    "#voy a probar on for con un rango de 3. cada vuelta seria un intento.\n",
    "\n",
    "4 intento_usuario = int(input(f\"Intento {intento + 1}: ¿Qué número pensás que es? \"))\n",
    "#mi input() pc, usuario me pide un numero pero debo convertilo en un numero enteto por eso uso int(), ahora para mostrar el numero de inentos usamos \"f\" y {intento + 1} muestra del 1 al 3.\n",
    "\n",
    "5     if intento_usuario == numero_secreto:\n",
    "#debi usar if para comprar el numero secreto anteriormente no le atine.\n",
    "\n",
    "6         print(\"¡Felicidades! Adivinaste\")\n",
    "        break\n",
    "#pilla el codigo termina el bucle\n",
    "\n",
    "7     elif intento_usuario < numero_secreto:\n",
    "        print(\"El número secreto es mayor\")\n",
    "#si el numero es menor que el secreto, avisa que el correcto es mayor.\n",
    "\n",
    "8     else:\n",
    "        print(\"El número secreto es menor\")\n",
    "\n",
    "9 else:\n",
    "    print(\"No lograste adivinar el número. El número secreto era\", numero_secreto)\n",
    "\n",
    "#Este else pertenece al for, no al if.\n",
    "#Se ejecuta solo si el for terminó sin usar break (o sea, si no adivinó en ningún intento).\n",
    "\n",
    "\n",
    "\n",
    "\n",
    "\n",
    "\n"
   ]
  },
  {
   "cell_type": "code",
   "execution_count": null,
   "id": "537fbd7c",
   "metadata": {},
   "outputs": [],
   "source": [
    "#Opa EL 2 AHORA EL Challenge 3: La Clase Animal\n",
    "#Crea una clase llamada Animal que tenga los atributos:\n",
    "#Nombre\n",
    "#edad\n",
    "#La clase debe tener un método llamado presentarse() que imprima algo como:\n",
    "#\"¡Hola! Soy [nombre] y tengo [edad] años. Luego, crea instancias de un perro y\n",
    "#un gato y haz que ambos se presenten.\n"
   ]
  },
  {
   "cell_type": "code",
   "execution_count": 13,
   "id": "f7557379",
   "metadata": {},
   "outputs": [
    {
     "name": "stdout",
     "output_type": "stream",
     "text": [
      "¡Hola! Soy pomelo y tengo 3 años.\n",
      "¡Hola! Soy flequillo y tengo 5 años.\n"
     ]
    }
   ],
   "source": [
    "class Animal:\n",
    "    def __init__(self, nombre, edad):\n",
    "        self.nombre = nombre\n",
    "        self.edad = edad\n",
    "\n",
    "    def presentarse(self):\n",
    "        print(f\"¡Hola! Soy {self.nombre} y tengo {self.edad} años.\")\n",
    "\n",
    "\n",
    "perro = Animal(\"pomelo\", 3)\n",
    "gato = Animal(\"flequillo\", 5)\n",
    "\n",
    "perro.presentarse()\n",
    "gato.presentarse()\n"
   ]
  },
  {
   "cell_type": "markdown",
   "id": "1bb40b05",
   "metadata": {},
   "source": [
    "class Animal: → Estamos creando una clase.\n",
    "\n",
    "__init__ → Método que se ejecuta cuando se crea un objeto. Carga nombre y edad.\n",
    "\n",
    "self.nombre = nombre → Guarda el nombre dentro del objeto.\n",
    "\n",
    "presentarse() → Muestra el mensaje con los datos.\n",
    "\n",
    "perro = Animal(\"Firulais\", 5) → Creamos un perro.\n",
    "\n",
    "perro.presentarse() → Imprime el mensaje del perro."
   ]
  },
  {
   "cell_type": "code",
   "execution_count": 14,
   "id": "e9ba90a7",
   "metadata": {},
   "outputs": [
    {
     "name": "stdout",
     "output_type": "stream",
     "text": [
      "¡Hola! Soy pomelo y tengo 2 años.\n",
      "¡Hola! Soy flequillo y tengo 5 años.\n"
     ]
    }
   ],
   "source": [
    "class Animal:\n",
    "    def __init__(self, nombre, edad):\n",
    "        self.nombre = nombre\n",
    "        self.edad = edad\n",
    "\n",
    "    def presentarse(self):\n",
    "        print(f\"¡Hola! Soy {self.nombre} y tengo {self.edad} años.\")\n",
    "\n",
    "nombre_perro = input(\"Nombre del perro: \")\n",
    "edad_perro = input(\"Edad del perro: \")\n",
    "\n",
    "nombre_gato = input(\"Nombre del gato: \")\n",
    "edad_gato = input(\"Edad del gato: \")\n",
    "\n",
    "perro = Animal(nombre_perro, edad_perro)\n",
    "gato = Animal(nombre_gato, edad_gato)\n",
    "\n",
    "perro.presentarse()\n",
    "gato.presentarse()\n",
    "\n",
    "#este fue con el kpe chats zzz\n"
   ]
  },
  {
   "cell_type": "code",
   "execution_count": null,
   "id": "f7fafa86",
   "metadata": {},
   "outputs": [],
   "source": [
    "#challenge 4 la pelusa"
   ]
  },
  {
   "cell_type": "markdown",
   "id": "9395002c",
   "metadata": {},
   "source": [
    "Crea una clase Peluche con los atributos:\n",
    "● nombre\n",
    "● tamaño\n",
    "La clase debe tener un método abrazar() que imprima algo como: \"¡Es hora de\n",
    "abrazar a [nombre], el peluche de tamaño [tamaño]!\"\n",
    "Luego, crea un peluche y haz que sea abrazado.\n",
    "Conceptos usados:\n",
    "● Clases, Atributos, Métodos."
   ]
  },
  {
   "cell_type": "code",
   "execution_count": 18,
   "id": "43765a47",
   "metadata": {},
   "outputs": [
    {
     "name": "stdout",
     "output_type": "stream",
     "text": [
      "¡Es hora de vender a pipo, el peluche enorme, color gris y con mal olor!\n"
     ]
    }
   ],
   "source": [
    "class Peluche:\n",
    "    def __init__(self, nombre, tamaño, color):\n",
    "        self.nombre = nombre\n",
    "        self.tamaño = tamaño\n",
    "        self.color = color\n",
    "\n",
    "    def vender(self):\n",
    "        print(f\"¡Es hora de vender a {self.nombre}, el peluche {self.tamaño}, color {self.color} y con mal olor!\")\n",
    "        \n",
    "nombre_peluche = input(\"¿Cómo se llama tu peluche? \")\n",
    "tamaño_peluche = input(\"¿Qué tamaño tiene tu peluche? \")\n",
    "color_peluche = input(\"¿De qué color es tu peluche? \")\n",
    "\n",
    "\n",
    "mi_peluche = Peluche(nombre_peluche, tamaño_peluche, color_peluche)\n",
    "\n",
    "mi_peluche.vender()\n"
   ]
  },
  {
   "cell_type": "code",
   "execution_count": null,
   "id": "7605ec11",
   "metadata": {},
   "outputs": [],
   "source": [
    "#Challenge 5: Multiplicar una Lista de Números"
   ]
  },
  {
   "cell_type": "markdown",
   "id": "f43aa2f0",
   "metadata": {},
   "source": [
    "#Escribe una función llamada multiplicar_lista() que reciba una lista de números\n",
    "como parámetro y devuelva el resultado de multiplicar todos los elementos de la lista."
   ]
  },
  {
   "cell_type": "code",
   "execution_count": 25,
   "id": "910a5dd8",
   "metadata": {},
   "outputs": [
    {
     "name": "stdout",
     "output_type": "stream",
     "text": [
      "Resultado: 60\n"
     ]
    }
   ],
   "source": [
    "def multiplicar_lista(lista):\n",
    "    resultado = 1\n",
    "    for numero in lista:\n",
    "        resultado *= numero\n",
    "    return resultado\n",
    "\n",
    "\n",
    "entrada = input(\"Escribí números separados por coma: \")  \n",
    "numeros = [int(x) for x in entrada.split(\",\")]\n",
    "\n",
    "\n",
    "print(\"Resultado:\", multiplicar_lista(numeros))\n"
   ]
  },
  {
   "cell_type": "code",
   "execution_count": null,
   "id": "910f9c67",
   "metadata": {},
   "outputs": [
    {
     "name": "stdout",
     "output_type": "stream",
     "text": [
      "Resultado: 60\n"
     ]
    }
   ],
   "source": [
    "def multiplicar_lista(lista):\n",
    "    resultado = 1\n",
    "    for numero in lista:\n",
    "        resultado *= numero\n",
    "    return resultado\n",
    "\n",
    "\n",
    "numeros = [2, 5, 6]\n",
    "\n",
    "\n",
    "print(\"Resultado:\", multiplicar_lista(numeros))\n",
    "\n",
    "#sin input lpm\n"
   ]
  },
  {
   "cell_type": "markdown",
   "id": "ed1cdda9",
   "metadata": {},
   "source": [
    "def multiplicar_lista(lista):\n",
    "Crea una función que recibe una lista como parámetro.\n",
    "\n",
    "resultado = 1:\n",
    "Empezamos con 1 (porque multiplicar con 0 da todo 0).\n",
    "\n",
    "for numero in lista:\n",
    "Recorremos cada número de la lista.\n",
    "\n",
    "resultado *= numero:\n",
    "Multiplicamos uno por uno y lo guardamos en resultado.\n",
    "\n",
    "return resultado:\n",
    "Devolvemos el resultado final.\n",
    "\n",
    "En la versión con input:\n",
    "\n",
    "entrada.split(\",\") separa los valores que escribiste.\n",
    "\n",
    "int(x) for x in ... convierte cada uno a número entero."
   ]
  },
  {
   "cell_type": "code",
   "execution_count": null,
   "id": "91ef247f",
   "metadata": {},
   "outputs": [],
   "source": [
    "#Challenge 6: Acumulador de Números"
   ]
  },
  {
   "cell_type": "markdown",
   "id": "5c99328a",
   "metadata": {},
   "source": [
    "Escribe una función llamada acumulador() que reciba un número n como parámetro y\n",
    "devuelva la suma de todos los números desde 1 hasta n"
   ]
  },
  {
   "cell_type": "code",
   "execution_count": 29,
   "id": "3a70eb05",
   "metadata": {},
   "outputs": [
    {
     "name": "stdout",
     "output_type": "stream",
     "text": [
      "La suma desde 1 hasta 9 es: 45\n"
     ]
    }
   ],
   "source": [
    "def acumulador(n):\n",
    "    suma = 0\n",
    "    for i in range(1, n + 1):\n",
    "        suma += i\n",
    "    return suma\n",
    "\n",
    "\n",
    "numero = int(input(\"Ingresá un número: \"))\n",
    "\n",
    "\n",
    "print(\"La suma desde 1 hasta\", numero, \"es:\", acumulador(numero))\n"
   ]
  },
  {
   "cell_type": "markdown",
   "id": "f1d34d39",
   "metadata": {},
   "source": [
    "def acumulador(n):\n",
    "Creamos una función que recibe un número n.\n",
    "\n",
    "suma = 0:\n",
    "Arrancamos con 0, donde vamos a acumular la suma.\n",
    "\n",
    "for i in range(1, n + 1):\n",
    "Usamos range() para ir del 1 al número n (inclusive).\n",
    "\n",
    "suma += i:\n",
    "En cada vuelta del bucle, sumamos el valor de i.\n",
    "\n",
    "return suma:\n",
    "Al final devolvemos la suma total."
   ]
  }
 ],
 "metadata": {
  "kernelspec": {
   "display_name": "Python 3",
   "language": "python",
   "name": "python3"
  },
  "language_info": {
   "codemirror_mode": {
    "name": "ipython",
    "version": 3
   },
   "file_extension": ".py",
   "mimetype": "text/x-python",
   "name": "python",
   "nbconvert_exporter": "python",
   "pygments_lexer": "ipython3",
   "version": "3.13.3"
  }
 },
 "nbformat": 4,
 "nbformat_minor": 5
}
